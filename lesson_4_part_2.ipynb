{
 "cells": [
  {
   "cell_type": "code",
   "execution_count": 1,
   "metadata": {},
   "outputs": [],
   "source": [
    "import requests\n",
    "from requests.structures import CaseInsensitiveDict\n",
    "import json\n",
    "from lxml import etree\n",
    "import os\n",
    "import re\n",
    "from IPython.display import HTML, display\n",
    "import pickle\n",
    "\n",
    "# 最重要的7个字：封装，重用，可读性 -> 类化的改造\n",
    "class MySearcher:\n",
    "    def __init__(self):\n",
    "        self.news_list = []\n",
    "        self.fetch_data()\n",
    "\n",
    "    # 获取新闻数据 如果没有数据文件则缓存到本地\n",
    "    def fetch_data(self):\n",
    "        news_list_file = 'news_list.dat'\n",
    "\n",
    "        if os.path.exists(news_list_file):\n",
    "            with open(news_list_file, 'rb') as file:\n",
    "                self.news_list = pickle.load(file)\n",
    "\n",
    "        else:\n",
    "            urls = [\"https://tech.163.com/special/00097UHL/tech_datalist.js?callback=data_callback\", \"https://tech.163.com/special/00097UHL/tech_datalist_02.js?callback=data_callback\", \"https://tech.163.com/special/00097UHL/tech_datalist_03.js?callback=data_callback\"]\n",
    "            headers = CaseInsensitiveDict()\n",
    "            headers[\"Referer\"] = \"https://tech.163.com/\"\n",
    "            headers[\"user-agent\"] = \"Mozilla/5.0 (Windows NT 10.0; Win64; x64) AppleWebKit/537.36 (KHTML, like Gecko) Chrome/128.0.0.0 Safari/537.36\"\n",
    "\n",
    "            # set避免重复抓取\n",
    "            url_set = set()\n",
    "            processed_count = 0\n",
    "\n",
    "            for url in urls:\n",
    "                resp = requests.get(url, headers=headers)\n",
    "                json_data = json.loads(resp.text[len('data_callback('):-1])\n",
    "\n",
    "                for news in json_data:\n",
    "                    title = news['title']\n",
    "                    docurl = news['docurl']\n",
    "\n",
    "                    if docurl not in url_set:\n",
    "                        doc_resp = requests.get(docurl, headers=headers, timeout=30)\n",
    "                        doc_resp.encoding = 'utf-8'\n",
    "                        tree = etree.HTML(doc_resp.text)\n",
    "\n",
    "                        post_body = tree.xpath(\"//div[@class='post_body']\")\n",
    "                        if post_body:\n",
    "                            paragraphs = post_body[0].xpath(\".//p\")\n",
    "                            # 将所有段落的HTML拼接\n",
    "                            html = ''.join(etree.tostring(p, method='html', encoding='unicode') for p in paragraphs)\n",
    "                            text = ''.join(t.strip() for t in etree.HTML(html).xpath(\"//text()\") if t.strip())\n",
    "\n",
    "                            # 在new_list里保存每条新闻的 1 链接 2 标题 3 全文\n",
    "                            self.news_list.append([docurl, title, text])\n",
    "                        \n",
    "                        url_set.add(docurl)\n",
    "\n",
    "                    processed_count += 1\n",
    "                    if processed_count % 15 == 0:\n",
    "                        print(f'{processed_count} processed.')\n",
    "\n",
    "            if self.news_list:\n",
    "                with open(news_list_file, 'wb') as file:\n",
    "                    pickle.dump(self.news_list, file)\n",
    "\n",
    "    def search_keywords(self, keyword):\n",
    "        keyword_lower = keyword.lower()\n",
    "\n",
    "        # 遍历news_list 1 判断关键字是否出现在标题 or 正文，2 若出现 则把index和计算后的得分加入结果\n",
    "        result = [(i, self.score(item, keyword)) for i, item in enumerate(self.news_list) if (keyword_lower in item[1].lower() or keyword_lower in item[2].lower())]\n",
    "        # 根据得分从高到低排序\n",
    "        result.sort(key=lambda x: x[1], reverse=True)\n",
    "        return result\n",
    "    \n",
    "\n",
    "    def highlight(self, text, keyword):\n",
    "        return re.sub(pattern=f'({keyword})', repl=r'<span style=\"color:#dd4b39\">\\1</span>', string=text, flags=re.IGNORECASE)\n",
    "\n",
    "\n",
    "    def score(self, item, keyword):\n",
    "        keyword_lower = keyword.lower()\n",
    "        return (item[1].lower().count(keyword_lower) * 5 + item[2].lower().count(keyword_lower) * 3)\n",
    "    \n",
    "    def render_search_result(self, keyword):\n",
    "        result = self.search_keywords(keyword)\n",
    "        for item in result:\n",
    "            clickable_title = f'<a href=\"{self.news_list[item[0]][0]}\" target=\"_blank\">{self.highlight(self.news_list[item[0]][1], keyword)}</a>'\n",
    "            display(HTML(f'[{item[1]}] {clickable_title}'))\n",
    "\n",
    "\n"
   ]
  },
  {
   "cell_type": "code",
   "execution_count": 2,
   "metadata": {},
   "outputs": [
    {
     "name": "stdout",
     "output_type": "stream",
     "text": [
      "15 processed.\n",
      "30 processed.\n",
      "45 processed.\n",
      "60 processed.\n",
      "75 processed.\n",
      "90 processed.\n"
     ]
    }
   ],
   "source": [
    "searcher = MySearcher()"
   ]
  },
  {
   "cell_type": "code",
   "execution_count": 3,
   "metadata": {},
   "outputs": [
    {
     "data": {
      "text/plain": [
       "90"
      ]
     },
     "execution_count": 3,
     "metadata": {},
     "output_type": "execute_result"
    }
   ],
   "source": [
    "len(searcher.news_list)"
   ]
  },
  {
   "cell_type": "code",
   "execution_count": 4,
   "metadata": {},
   "outputs": [
    {
     "data": {
      "text/html": [
       "[143] <a href=\"https://www.163.com/dy/article/JCL7J7E605119734.html\" target=\"_blank\">“云与<span style=\"color:#dd4b39\">AI</span>齐飞”“软件与硬件齐奔”：记2024年云栖大会</a>"
      ],
      "text/plain": [
       "<IPython.core.display.HTML object>"
      ]
     },
     "metadata": {},
     "output_type": "display_data"
    },
    {
     "data": {
      "text/html": [
       "[95] <a href=\"https://www.163.com/dy/article/JCL0J58J051492T3.html\" target=\"_blank\"><span style=\"color:#dd4b39\">AI</span>会带来什么？科幻作家何夕：给年轻创作者很大机遇</a>"
      ],
      "text/plain": [
       "<IPython.core.display.HTML object>"
      ]
     },
     "metadata": {},
     "output_type": "display_data"
    },
    {
     "data": {
      "text/html": [
       "[88] <a href=\"https://www.163.com/dy/article/JCKL6MB30511DSSR.html\" target=\"_blank\"><span style=\"color:#dd4b39\">AI</span>“大姨”现场刁难智能客服！直击一群<span style=\"color:#dd4b39\">AI</span>打PK赛，真能落地的那种</a>"
      ],
      "text/plain": [
       "<IPython.core.display.HTML object>"
      ]
     },
     "metadata": {},
     "output_type": "display_data"
    },
    {
     "data": {
      "text/html": [
       "[72] <a href=\"https://www.163.com/dy/article/JCKON87E05118HA4.html\" target=\"_blank\">他山科技创始人马扬：触觉传感芯片是机器人必经之路</a>"
      ],
      "text/plain": [
       "<IPython.core.display.HTML object>"
      ]
     },
     "metadata": {},
     "output_type": "display_data"
    },
    {
     "data": {
      "text/html": [
       "[56] <a href=\"https://www.163.com/dy/article/JCKVH9NC055040N3.html\" target=\"_blank\">作家死了？文学死了？人文学科危中寻机，催生出<span style=\"color:#dd4b39\">AI</span>叙事学、人机对话修辞学等</a>"
      ],
      "text/plain": [
       "<IPython.core.display.HTML object>"
      ]
     },
     "metadata": {},
     "output_type": "display_data"
    },
    {
     "data": {
      "text/html": [
       "[45] <a href=\"https://www.163.com/dy/article/JCKRKO6105199NPP.html\" target=\"_blank\">原生鸿蒙高歌猛进 上万应用和元服务已上架</a>"
      ],
      "text/plain": [
       "<IPython.core.display.HTML object>"
      ]
     },
     "metadata": {},
     "output_type": "display_data"
    },
    {
     "data": {
      "text/html": [
       "[45] <a href=\"https://www.163.com/dy/article/JCKM4RQA055040N3.html\" target=\"_blank\">“命运共同体：人工智能时代科技人文融合发展”高端论坛举办</a>"
      ],
      "text/plain": [
       "<IPython.core.display.HTML object>"
      ]
     },
     "metadata": {},
     "output_type": "display_data"
    },
    {
     "data": {
      "text/html": [
       "[39] <a href=\"https://www.163.com/dy/article/JCKQL1FE0527DRNR.html\" target=\"_blank\">四家中国车企与贾跃亭与合作第二品牌</a>"
      ],
      "text/plain": [
       "<IPython.core.display.HTML object>"
      ]
     },
     "metadata": {},
     "output_type": "display_data"
    },
    {
     "data": {
      "text/html": [
       "[32] <a href=\"https://www.163.com/dy/article/JCK1PA0J05118O8G.html\" target=\"_blank\">扎克伯格新访谈：智能眼镜是最完美的 <span style=\"color:#dd4b39\">AI</span> 助手，也是最终极的数字社交</a>"
      ],
      "text/plain": [
       "<IPython.core.display.HTML object>"
      ]
     },
     "metadata": {},
     "output_type": "display_data"
    },
    {
     "data": {
      "text/html": [
       "[32] <a href=\"https://www.163.com/dy/article/JCL5SIFS055040N3.html\" target=\"_blank\">链市场-<span style=\"color:#dd4b39\">AI</span>GC赋能在线新经济专题分享会圆满完成</a>"
      ],
      "text/plain": [
       "<IPython.core.display.HTML object>"
      ]
     },
     "metadata": {},
     "output_type": "display_data"
    },
    {
     "data": {
      "text/html": [
       "[26] <a href=\"https://www.163.com/dy/article/JCKTMGID0511B8LM.html\" target=\"_blank\">部分科技巨头请求欧盟对<span style=\"color:#dd4b39\">AI</span>“从宽”监管，避免数十亿美元罚款风险</a>"
      ],
      "text/plain": [
       "<IPython.core.display.HTML object>"
      ]
     },
     "metadata": {},
     "output_type": "display_data"
    },
    {
     "data": {
      "text/html": [
       "[24] <a href=\"https://www.163.com/dy/article/JCL0BPTV0535ORBB.html\" target=\"_blank\">节节败退的英特尔，“撕碎”美国芯片梦</a>"
      ],
      "text/plain": [
       "<IPython.core.display.HTML object>"
      ]
     },
     "metadata": {},
     "output_type": "display_data"
    },
    {
     "data": {
      "text/html": [
       "[21] <a href=\"https://www.163.com/dy/article/JCJIPTL30514R9P4.html\" target=\"_blank\">明查｜iPhone在黎巴嫩被引爆？没有证据</a>"
      ],
      "text/plain": [
       "<IPython.core.display.HTML object>"
      ]
     },
     "metadata": {},
     "output_type": "display_data"
    },
    {
     "data": {
      "text/html": [
       "[21] <a href=\"https://www.163.com/dy/article/JCL5SIE7055040N3.html\" target=\"_blank\">人工智能赋能商业专题研讨会在普陀召开</a>"
      ],
      "text/plain": [
       "<IPython.core.display.HTML object>"
      ]
     },
     "metadata": {},
     "output_type": "display_data"
    },
    {
     "data": {
      "text/html": [
       "[21] <a href=\"https://www.163.com/dy/article/JCKTTJ53051180F7.html\" target=\"_blank\">造机器人可以这么简单！地瓜机器人旭日5芯片、RDK全套开发利器发布</a>"
      ],
      "text/plain": [
       "<IPython.core.display.HTML object>"
      ]
     },
     "metadata": {},
     "output_type": "display_data"
    },
    {
     "data": {
      "text/html": [
       "[20] <a href=\"https://www.163.com/dy/article/JCL7FL3S0511B8LM.html\" target=\"_blank\">GPD 员工称 AMD 锐龙 <span style=\"color:#dd4b39\">AI</span> 9 HX 370 比 R7 8840U 贵出一倍</a>"
      ],
      "text/plain": [
       "<IPython.core.display.HTML object>"
      ]
     },
     "metadata": {},
     "output_type": "display_data"
    },
    {
     "data": {
      "text/html": [
       "[18] <a href=\"https://www.163.com/dy/article/JCI6V8QE05118O92.html\" target=\"_blank\">何小鹏与吴新宙达成共识，特斯拉FSD入华“不慌”</a>"
      ],
      "text/plain": [
       "<IPython.core.display.HTML object>"
      ]
     },
     "metadata": {},
     "output_type": "display_data"
    },
    {
     "data": {
      "text/html": [
       "[17] <a href=\"https://www.163.com/dy/article/JCKT47ES05119734.html\" target=\"_blank\">Meta联合开发机器人<span style=\"color:#dd4b39\">AI</span>模型，任务成功率达90%</a>"
      ],
      "text/plain": [
       "<IPython.core.display.HTML object>"
      ]
     },
     "metadata": {},
     "output_type": "display_data"
    },
    {
     "data": {
      "text/html": [
       "[15] <a href=\"https://www.163.com/dy/article/JCKLCCNU05119FMA.html\" target=\"_blank\">政企向大模型转身，阿里云十年打磨一把「锤」</a>"
      ],
      "text/plain": [
       "<IPython.core.display.HTML object>"
      ]
     },
     "metadata": {},
     "output_type": "display_data"
    },
    {
     "data": {
      "text/html": [
       "[14] <a href=\"https://www.163.com/dy/article/JCL512AV0511B8LM.html\" target=\"_blank\">何小鹏：下一阶段赛点是每年产销百万台“全<span style=\"color:#dd4b39\">AI</span>汽车”</a>"
      ],
      "text/plain": [
       "<IPython.core.display.HTML object>"
      ]
     },
     "metadata": {},
     "output_type": "display_data"
    },
    {
     "data": {
      "text/html": [
       "[12] <a href=\"https://www.163.com/dy/article/JCK3N2R70511DSSR.html\" target=\"_blank\">高通被曝求购英特尔，手机芯片王者并购PC芯片王者！需要中国同意</a>"
      ],
      "text/plain": [
       "<IPython.core.display.HTML object>"
      ]
     },
     "metadata": {},
     "output_type": "display_data"
    },
    {
     "data": {
      "text/html": [
       "[12] <a href=\"https://www.163.com/dy/article/JCKMAG3D0511CPVM.html\" target=\"_blank\">60Hz屏将被淘汰！曝iPhone 17标准版升级120Hz高刷</a>"
      ],
      "text/plain": [
       "<IPython.core.display.HTML object>"
      ]
     },
     "metadata": {},
     "output_type": "display_data"
    },
    {
     "data": {
      "text/html": [
       "[11] <a href=\"https://www.163.com/dy/article/JCL4EPNF0511B8LM.html\" target=\"_blank\">零刻 SER9 迷你主机海外发布：搭载 AMD 锐龙 <span style=\"color:#dd4b39\">AI</span> 9 HX 370 处理器</a>"
      ],
      "text/plain": [
       "<IPython.core.display.HTML object>"
      ]
     },
     "metadata": {},
     "output_type": "display_data"
    },
    {
     "data": {
      "text/html": [
       "[9] <a href=\"https://www.163.com/dy/article/JCIJQD2705118O92.html\" target=\"_blank\">英伟达回应厂商无法下单H20芯片传闻：不对谣言做评论</a>"
      ],
      "text/plain": [
       "<IPython.core.display.HTML object>"
      ]
     },
     "metadata": {},
     "output_type": "display_data"
    },
    {
     "data": {
      "text/html": [
       "[9] <a href=\"https://www.163.com/dy/article/JCKK8AP7055284JB.html\" target=\"_blank\">清华孙茂松：人工智能离工业运用仍有距离，目前与文化产品适配</a>"
      ],
      "text/plain": [
       "<IPython.core.display.HTML object>"
      ]
     },
     "metadata": {},
     "output_type": "display_data"
    },
    {
     "data": {
      "text/html": [
       "[8] <a href=\"https://www.163.com/dy/article/JCI72D5N0519DDQ2.html\" target=\"_blank\">从创意保护到自动驾驶事故，美国法律界如何看待<span style=\"color:#dd4b39\">AI</span>监管难题</a>"
      ],
      "text/plain": [
       "<IPython.core.display.HTML object>"
      ]
     },
     "metadata": {},
     "output_type": "display_data"
    },
    {
     "data": {
      "text/html": [
       "[6] <a href=\"https://www.163.com/tech/article/JCJV2PLQ00098IEO.html\" target=\"_blank\">腾势Z9GT上市 标配易三方高阶智驾 33.48万元起</a>"
      ],
      "text/plain": [
       "<IPython.core.display.HTML object>"
      ]
     },
     "metadata": {},
     "output_type": "display_data"
    },
    {
     "data": {
      "text/html": [
       "[6] <a href=\"https://www.163.com/dy/article/JCKLC4M005118DFD.html\" target=\"_blank\">中国智能车，闯入豪华车的无人区</a>"
      ],
      "text/plain": [
       "<IPython.core.display.HTML object>"
      ]
     },
     "metadata": {},
     "output_type": "display_data"
    },
    {
     "data": {
      "text/html": [
       "[6] <a href=\"https://www.163.com/dy/article/JCKTUCM405129QAF.html\" target=\"_blank\">高通计划收购英特尔？或成史上最大科技并购案</a>"
      ],
      "text/plain": [
       "<IPython.core.display.HTML object>"
      ]
     },
     "metadata": {},
     "output_type": "display_data"
    },
    {
     "data": {
      "text/html": [
       "[6] <a href=\"https://www.163.com/dy/article/JCKQRETG05346RC6.html\" target=\"_blank\">数字技术助力中国加速发展文化新质生产力</a>"
      ],
      "text/plain": [
       "<IPython.core.display.HTML object>"
      ]
     },
     "metadata": {},
     "output_type": "display_data"
    },
    {
     "data": {
      "text/html": [
       "[6] <a href=\"https://www.163.com/dy/article/JCKMAG940511CPVM.html\" target=\"_blank\">余承东力荐华为自研的绘画软件：不仅专业 并且轻松易上手</a>"
      ],
      "text/plain": [
       "<IPython.core.display.HTML object>"
      ]
     },
     "metadata": {},
     "output_type": "display_data"
    },
    {
     "data": {
      "text/html": [
       "[3] <a href=\"https://www.163.com/tech/article/JCJV1OO400098IEO.html\" target=\"_blank\">深蓝L07上市 首搭华为乾崑智驾基础版中型轿车</a>"
      ],
      "text/plain": [
       "<IPython.core.display.HTML object>"
      ]
     },
     "metadata": {},
     "output_type": "display_data"
    },
    {
     "data": {
      "text/html": [
       "[3] <a href=\"https://www.163.com/dy/article/JCKT4JA005119734.html\" target=\"_blank\">科学家造出配位网络玻璃，能用于制备固体电化学发光器件</a>"
      ],
      "text/plain": [
       "<IPython.core.display.HTML object>"
      ]
     },
     "metadata": {},
     "output_type": "display_data"
    },
    {
     "data": {
      "text/html": [
       "[3] <a href=\"https://www.163.com/dy/article/JCKUCJ1O0514R9KQ.html\" target=\"_blank\">北京已上线生成式大模型82款</a>"
      ],
      "text/plain": [
       "<IPython.core.display.HTML object>"
      ]
     },
     "metadata": {},
     "output_type": "display_data"
    },
    {
     "data": {
      "text/html": [
       "[3] <a href=\"https://www.163.com/dy/article/JCKQOCD60511DSSR.html\" target=\"_blank\">浩鲸科技鲸智BI大模型发布，从算法炫技到价值落地</a>"
      ],
      "text/plain": [
       "<IPython.core.display.HTML object>"
      ]
     },
     "metadata": {},
     "output_type": "display_data"
    },
    {
     "data": {
      "text/html": [
       "[3] <a href=\"https://www.163.com/dy/article/JCKQOP8405198NMR.html\" target=\"_blank\">芯片业大变革：高通想收英特尔</a>"
      ],
      "text/plain": [
       "<IPython.core.display.HTML object>"
      ]
     },
     "metadata": {},
     "output_type": "display_data"
    },
    {
     "data": {
      "text/html": [
       "[3] <a href=\"https://www.163.com/dy/article/JCKON86305118HA4.html\" target=\"_blank\">深蓝联合华为乾崑双拳出击 深蓝L07正式上市 15.19万元起售</a>"
      ],
      "text/plain": [
       "<IPython.core.display.HTML object>"
      ]
     },
     "metadata": {},
     "output_type": "display_data"
    },
    {
     "data": {
      "text/html": [
       "[3] <a href=\"https://www.163.com/dy/article/JCKNIUFO051481US.html\" target=\"_blank\">新车看点 | 开辟第二增长点，极氪7X不到23万元起售</a>"
      ],
      "text/plain": [
       "<IPython.core.display.HTML object>"
      ]
     },
     "metadata": {},
     "output_type": "display_data"
    }
   ],
   "source": [
    "searcher.render_search_result('ai')\n"
   ]
  }
 ],
 "metadata": {
  "kernelspec": {
   "display_name": "Python 3",
   "language": "python",
   "name": "python3"
  },
  "language_info": {
   "codemirror_mode": {
    "name": "ipython",
    "version": 3
   },
   "file_extension": ".py",
   "mimetype": "text/x-python",
   "name": "python",
   "nbconvert_exporter": "python",
   "pygments_lexer": "ipython3",
   "version": "3.10.5"
  }
 },
 "nbformat": 4,
 "nbformat_minor": 2
}
