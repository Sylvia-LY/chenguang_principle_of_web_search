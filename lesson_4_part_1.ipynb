{
 "cells": [
  {
   "cell_type": "code",
   "execution_count": 1,
   "metadata": {},
   "outputs": [
    {
     "name": "stdout",
     "output_type": "stream",
     "text": [
      "15 processed.\n",
      "30 processed.\n",
      "45 processed.\n",
      "60 processed.\n",
      "75 processed.\n",
      "90 processed.\n"
     ]
    }
   ],
   "source": [
    "import requests\n",
    "from requests.structures import CaseInsensitiveDict\n",
    "import json\n",
    "from lxml import etree\n",
    "import pickle\n",
    "\n",
    "\n",
    "# 在网易科技频道 network js里找的url\n",
    "urls = [\"https://tech.163.com/special/00097UHL/tech_datalist.js?callback=data_callback\", \"https://tech.163.com/special/00097UHL/tech_datalist_02.js?callback=data_callback\", \"https://tech.163.com/special/00097UHL/tech_datalist_03.js?callback=data_callback\"]\n",
    "\n",
    "# 设置请求头伪装\n",
    "headers = CaseInsensitiveDict()\n",
    "headers[\"Referer\"] = \"https://tech.163.com/\"\n",
    "headers[\"user-agent\"] = \"Mozilla/5.0 (Windows NT 10.0; Win64; x64) AppleWebKit/537.36 (KHTML, like Gecko) Chrome/128.0.0.0 Safari/537.36\"\n",
    "\n",
    "# 保存访问过的docurl\n",
    "url_set = set()\n",
    "news_list = []\n",
    "cnt = 0\n",
    "\n",
    "for url in urls:\n",
    "    resp = requests.get(url, headers=headers)\n",
    "    if resp.status_code == 200:\n",
    "        json_data = json.loads(resp.text[len('data_callback('):-1])\n",
    "\n",
    "        for item in json_data:\n",
    "            title = item['title']\n",
    "            docurl = item['docurl']\n",
    "\n",
    "            if docurl not in url_set:\n",
    "                \n",
    "                doc_resp = requests.get(docurl, headers=headers, timeout=10)\n",
    "                doc_resp.encoding = 'utf-8'\n",
    "                tree = etree.HTML(doc_resp.text)\n",
    "\n",
    "                # 定位到新闻正文部分\n",
    "                post_body = tree.xpath(\"//div[@class='post_body']\")\n",
    "                # 没有正文的视频。。之类这一步就被筛掉\n",
    "                if post_body:\n",
    "                    # 因为p里还有strong之类的。。真费事儿\n",
    "                    paragraphs = post_body[0].xpath(\".//p\")\n",
    "                    html = ''.join(etree.tostring(p, method='html', encoding='unicode') for p in paragraphs)\n",
    "                    text = etree.HTML(html).xpath(\"//text()\")\n",
    "                    text = ''.join(t.strip() for t in text if t.strip())\n",
    "                    \n",
    "                    news_list.append([docurl, title, text])\n",
    "\n",
    "                url_set.add(docurl)\n",
    "            cnt += 1\n",
    "            if cnt % 15 == 0:\n",
    "                print(f'{cnt} processed.')\n",
    "\n",
    "\n",
    "# 保存原文\n",
    "# wb - 以二进制模式打开文件进行写入 适用于非文本数据（这里因为01序列化）\n",
    "with open('news_list.dat', 'wb') as file:\n",
    "    pickle.dump(news_list, file)"
   ]
  },
  {
   "cell_type": "code",
   "execution_count": 2,
   "metadata": {},
   "outputs": [],
   "source": [
    "import pickle\n",
    "\n",
    "with open('news_list.dat', 'rb') as file:\n",
    "    news_list = pickle.load(file)\n"
   ]
  },
  {
   "cell_type": "code",
   "execution_count": 3,
   "metadata": {},
   "outputs": [
    {
     "data": {
      "text/plain": [
       "89"
      ]
     },
     "execution_count": 3,
     "metadata": {},
     "output_type": "execute_result"
    }
   ],
   "source": [
    "len(news_list)"
   ]
  },
  {
   "cell_type": "code",
   "execution_count": 4,
   "metadata": {},
   "outputs": [
    {
     "data": {
      "text/plain": [
       "['https://www.163.com/tech/article/JCGS7BC200097U7T.html',\n",
       " '全新岚图梦想家正式上：搭载华为智驾 32.99万元起',\n",
       " '9月20日消息，全新岚图梦想家昨日正式上市并公布价格，其中，全新岚图梦想家四驱卓越鲲鹏版PHEV 32.99万元、EV 34.99万元；全新岚图梦想家四驱尊贵鲲鹏版PHEV 35.99万元、EV 37.99万元；全新岚图梦想家四驱旗舰鲲鹏版PHEV 39.99万元、EV 41.99万元；全新岚图梦想家四驱旗舰乾崑版PHEV 42.99万元、EV 44.99万元。岚图方面表示，在外观方面，全新岚图梦想家以鲲鹏展翅贯穿式前大灯搭配扶摇直上前格栅，配以34根对称华柱，搭配超5.3米的车身。资料显示，全新岚图梦想家车内空间宽敞如7平米大平层，二排配备SPA及零重力座椅，还拥有SPA级10点式按摩与3D环抱式加热功能；新车还配备“大冰箱、大彩电”，拥有13L双开门冷暖智能冰箱，可轻松容纳10瓶矿泉水；17.3英寸二排娱乐屏可随时变身家庭电影院。即便是第三排座椅，乘坐体验也不降级，配有四向电动调节与同级唯一的三排三座加热功能。内饰方面，全新岚图梦想家鲲鹏版也进行了全面焕新，并搭载了岚图自研的逍遥座舱和鲲鹏智能驾驶辅助系统；前排配备双15.4英寸悬浮式联屏，分辨率达2.5K，长途出行时，副驾驶可以尽情K歌、刷剧，且不会影响到驾驶员使用中控屏进行导航。新车不仅为驾驶员提供了仪表屏，还提供了尺寸达29英寸的AR-HUD。全新岚图梦想家逍遥座舱在硬件层面，还提供了冰箱控制屏及二排座椅双扶手屏，为用户带来8屏联动的全新交互体验，车规级高性能8295P芯片的应用算力大幅提升；在软件层面，新车搭载了更聪明的VOYAH GPT大模型，可在500毫秒内极速响应，支持连续对话，识别清晰执行准确且支持全界面可见即可说；鲲鹏智能驾驶辅助系统配备了24个感知智慧传感器与26项智能驾驶辅助功能，车辆智驾水平达到L2.5级。岚图方面表示，全新岚图梦想家依然传承了旗舰级安全、底盘和动力三大硬核实力，为用户带来安心、畅快及舒适的驾乘体验，七重正碰保护与五层追尾保护设计，配合上2000Mpa超高强度笼式车身，获得了C-NCAP五星安全认证，并通过了110km/h时速超美标追尾测试。在底盘方面，全新岚图梦想家采用了前双叉臂、后五连杆独立悬架。此外，还配备了由空气弹簧和CDC电磁减震器组成的智能空气魔毯悬架，让乘坐者即便在颠簸路段也能享受到如履平地的舒适感受；新车全系标配智能电动四驱系统，前后电机扭矩支持0-100%智能无级调节，总功率高达420kW，总扭矩达840N·m。CLTC纯电续航里程235km、综合续航里程1411km，亏电油耗为5.42L/100km。（平章）']"
      ]
     },
     "execution_count": 4,
     "metadata": {},
     "output_type": "execute_result"
    }
   ],
   "source": [
    "news_list[20]"
   ]
  },
  {
   "cell_type": "code",
   "execution_count": 7,
   "metadata": {},
   "outputs": [
    {
     "data": {
      "text/html": [
       "[236] <a href=\"https://www.163.com/dy/article/JCG5777H051196HN.html\" target=\"_blank\"><span style=\"color:#dd4b39\";>iPhone</span> 16系列深度测评！标准版比Pro更值得买</a>"
      ],
      "text/plain": [
       "<IPython.core.display.HTML object>"
      ]
     },
     "metadata": {},
     "output_type": "display_data"
    },
    {
     "data": {
      "text/html": [
       "[164] <a href=\"https://www.163.com/dy/article/JCIIIKAP051188EA.html\" target=\"_blank\">AI太香，<span style=\"color:#dd4b39\";>iPhone</span>水货复兴</a>"
      ],
      "text/plain": [
       "<IPython.core.display.HTML object>"
      ]
     },
     "metadata": {},
     "output_type": "display_data"
    },
    {
     "data": {
      "text/html": [
       "[161] <a href=\"https://www.163.com/dy/article/JCG0TNA50519DDQ2.html\" target=\"_blank\"><span style=\"color:#dd4b39\";>iPhone</span> 16已“破发”？有平台降价达千元</a>"
      ],
      "text/plain": [
       "<IPython.core.display.HTML object>"
      ]
     },
     "metadata": {},
     "output_type": "display_data"
    },
    {
     "data": {
      "text/html": [
       "[77] <a href=\"https://www.163.com/dy/article/JCILNC660519DDQ2.html\" target=\"_blank\"><span style=\"color:#dd4b39\";>iPhone</span>掀起补贴大战，“不愁卖”的苹果越来越需要电商了</a>"
      ],
      "text/plain": [
       "<IPython.core.display.HTML object>"
      ]
     },
     "metadata": {},
     "output_type": "display_data"
    },
    {
     "data": {
      "text/html": [
       "[65] <a href=\"https://www.163.com/dy/article/JCHSGK4B0530KP1K.html\" target=\"_blank\"><span style=\"color:#dd4b39\";>iPhone</span> 16破发！黄牛吐槽回收行情不如去年，多款机型被拒收</a>"
      ],
      "text/plain": [
       "<IPython.core.display.HTML object>"
      ]
     },
     "metadata": {},
     "output_type": "display_data"
    },
    {
     "data": {
      "text/html": [
       "[56] <a href=\"https://www.163.com/dy/article/JCIGNPDV0530KP1K.html\" target=\"_blank\">实探苹果华为对垒下的华强北：<span style=\"color:#dd4b39\";>iPhone</span>有机型破发，华为三折叠最高加价2.6万</a>"
      ],
      "text/plain": [
       "<IPython.core.display.HTML object>"
      ]
     },
     "metadata": {},
     "output_type": "display_data"
    },
    {
     "data": {
      "text/html": [
       "[56] <a href=\"https://www.163.com/dy/article/JCIF6FBH053469KC.html\" target=\"_blank\">财经猎豹｜华为苹果新机同日开售：三折屏秒光，<span style=\"color:#dd4b39\";>iPhone</span>16行情“不及预期”</a>"
      ],
      "text/plain": [
       "<IPython.core.display.HTML object>"
      ]
     },
     "metadata": {},
     "output_type": "display_data"
    },
    {
     "data": {
      "text/html": [
       "[53] <a href=\"https://www.163.com/dy/article/JCIF6FBI053469KC.html\" target=\"_blank\">财经猎豹｜华为苹果新机同日开售：三折屏秒光，<span style=\"color:#dd4b39\";>iPhone</span>16行情“不及预期”</a>"
      ],
      "text/plain": [
       "<IPython.core.display.HTML object>"
      ]
     },
     "metadata": {},
     "output_type": "display_data"
    },
    {
     "data": {
      "text/html": [
       "[42] <a href=\"https://www.163.com/dy/article/JCIFA518051188EA.html\" target=\"_blank\">苹果三星离开后，小米成了俄罗斯手机主流</a>"
      ],
      "text/plain": [
       "<IPython.core.display.HTML object>"
      ]
     },
     "metadata": {},
     "output_type": "display_data"
    },
    {
     "data": {
      "text/html": [
       "[24] <a href=\"https://www.163.com/dy/article/JCG537SN0511B8LM.html\" target=\"_blank\">消息称苹果首款自研5G芯片将有＂短板＂：不支持毫米波</a>"
      ],
      "text/plain": [
       "<IPython.core.display.HTML object>"
      ]
     },
     "metadata": {},
     "output_type": "display_data"
    },
    {
     "data": {
      "text/html": [
       "[23] <a href=\"https://www.163.com/dy/article/JCIQS41M0511B8LM.html\" target=\"_blank\">苹果 <span style=\"color:#dd4b39\";>iPhone</span> 16 Pro Max DXOMARK 影像测试结果出炉：总分157，位列排行榜第</a>"
      ],
      "text/plain": [
       "<IPython.core.display.HTML object>"
      ]
     },
     "metadata": {},
     "output_type": "display_data"
    },
    {
     "data": {
      "text/html": [
       "[23] <a href=\"https://www.163.com/tech/article/JCHTD5KF00098IEO.html\" target=\"_blank\">快讯｜近7000家Apple授权专营店在美团开售<span style=\"color:#dd4b39\";>iPhone</span> 16系列</a>"
      ],
      "text/plain": [
       "<IPython.core.display.HTML object>"
      ]
     },
     "metadata": {},
     "output_type": "display_data"
    },
    {
     "data": {
      "text/html": [
       "[17] <a href=\"https://www.163.com/mobile/article/JCH3OO160011819H.html\" target=\"_blank\"><span style=\"color:#dd4b39\";>iPhone</span> 16系列：黄牛收Pro Max仅加价300</a>"
      ],
      "text/plain": [
       "<IPython.core.display.HTML object>"
      ]
     },
     "metadata": {},
     "output_type": "display_data"
    },
    {
     "data": {
      "text/html": [
       "[14] <a href=\"https://www.163.com/tech/article/JCHUIEJP00098IEO.html\" target=\"_blank\"> 快讯｜饿了么首次支持<span style=\"color:#dd4b39\";>iPhone</span> 16系列新品开售</a>"
      ],
      "text/plain": [
       "<IPython.core.display.HTML object>"
      ]
     },
     "metadata": {},
     "output_type": "display_data"
    },
    {
     "data": {
      "text/html": [
       "[14] <a href=\"https://www.163.com/dy/article/JCIGM58D0511B8LM.html\" target=\"_blank\"><span style=\"color:#dd4b39\";>iPhone</span> 16 Pro / Max 主摄升级 IMX903，长焦与 15 Pro Max 相同</a>"
      ],
      "text/plain": [
       "<IPython.core.display.HTML object>"
      ]
     },
     "metadata": {},
     "output_type": "display_data"
    },
    {
     "data": {
      "text/html": [
       "[9] <a href=\"https://www.163.com/dy/article/JCGSJMP90511B8LM.html\" target=\"_blank\">苹果发布iOS/iPadOS 18.1、macOS 15.1首个公测版</a>"
      ],
      "text/plain": [
       "<IPython.core.display.HTML object>"
      ]
     },
     "metadata": {},
     "output_type": "display_data"
    },
    {
     "data": {
      "text/html": [
       "[6] <a href=\"https://www.163.com/dy/article/JCIG0J9M05199DKK.html\" target=\"_blank\">脑机接口企业在种一棵十年后开花的树</a>"
      ],
      "text/plain": [
       "<IPython.core.display.HTML object>"
      ]
     },
     "metadata": {},
     "output_type": "display_data"
    },
    {
     "data": {
      "text/html": [
       "[3] <a href=\"https://www.163.com/dy/article/JCIJHDBO0519DFFO.html\" target=\"_blank\">2024云栖大会|斑马智行首席产品官蔡明:有人说未来会“ALL IN大模型”，我反</a>"
      ],
      "text/plain": [
       "<IPython.core.display.HTML object>"
      ]
     },
     "metadata": {},
     "output_type": "display_data"
    }
   ],
   "source": [
    "import re\n",
    "from IPython.display import HTML, display\n",
    "\n",
    "# 谷歌红凸显关键词\n",
    "def highlight(text, keyword):\n",
    "    return re.sub(pattern=f'({keyword})', repl=r'<span style=\"color:#dd4b39\";>\\1</span>', string=text, flags=re.IGNORECASE)\n",
    "\n",
    "def score(item, keyword):\n",
    "    keyword_lower = keyword.lower()\n",
    "    return (item[1].lower().count(keyword_lower) * 5 + \n",
    "            item[2].lower().count(keyword_lower) * 3)\n",
    "\n",
    "keyword = 'iphone'\n",
    "keyword_lower = keyword.lower()\n",
    "\n",
    "# list里面每条tuple包括 1 index 2 得分\n",
    "result = [(i, score(item, keyword)) for i, item in enumerate(news_list) if (keyword_lower in item[1].lower() or keyword_lower in item[2].lower())]\n",
    "# 根据得分排序\n",
    "result.sort(key=lambda x: x[1], reverse=True)\n",
    "\n",
    "# display each result with the title highlighted and clickable\n",
    "for item in result:\n",
    "    clickable_title = f'<a href=\"{news_list[item[0]][0]}\" target=\"_blank\">{highlight(news_list[item[0]][1], keyword)}</a>'\n",
    "    display(HTML(f'[{item[1]}] {clickable_title}'))"
   ]
  }
 ],
 "metadata": {
  "kernelspec": {
   "display_name": "Python 3",
   "language": "python",
   "name": "python3"
  },
  "language_info": {
   "codemirror_mode": {
    "name": "ipython",
    "version": 3
   },
   "file_extension": ".py",
   "mimetype": "text/x-python",
   "name": "python",
   "nbconvert_exporter": "python",
   "pygments_lexer": "ipython3",
   "version": "3.10.5"
  }
 },
 "nbformat": 4,
 "nbformat_minor": 2
}
